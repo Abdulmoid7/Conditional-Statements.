{
 "cells": [
  {
   "cell_type": "markdown",
   "metadata": {},
   "source": [
    "1) A company decided to give bonus of 5% to employee if his/her year of service is more than 5 years.\n",
    "Ask user for their salary and year of service and print the net bonus amount."
   ]
  },
  {
   "cell_type": "code",
   "execution_count": 3,
   "metadata": {},
   "outputs": [
    {
     "name": "stdout",
     "output_type": "stream",
     "text": [
      "Sorry, you are not eligible for a bonus.\n"
     ]
    }
   ],
   "source": [
    "salary = float(input(\"Enter your salary: \"))\n",
    "years_of_service = int(input(\"Enter the number of years you've been with the company: \"))\n",
    "\n",
    "if years_of_service > 5:\n",
    "    bonus_percentage = 5\n",
    "    bonus_amount = (bonus_percentage / 100) * salary\n",
    "    print(\"Congratulations! You are eligible for a {}% bonus.\".format(bonus_percentage))\n",
    "    print(\"Your bonus amount is: ${:.2f}\".format(bonus_amount))\n",
    "else:\n",
    "    print(\"Sorry, you are not eligible for a bonus.\")\n",
    "\n"
   ]
  },
  {
   "cell_type": "code",
   "execution_count": 6,
   "metadata": {},
   "outputs": [],
   "source": []
  },
  {
   "cell_type": "markdown",
   "metadata": {},
   "source": [
    "\n",
    "2) Write a program to check whether a person is eligible for voting or not. (accept age from user) if age is greater than 17 eligible otherwise not eligible"
   ]
  },
  {
   "cell_type": "code",
   "execution_count": 5,
   "metadata": {},
   "outputs": [
    {
     "name": "stdout",
     "output_type": "stream",
     "text": [
      "Sorry! You are not eligible for casting vote.\n"
     ]
    }
   ],
   "source": [
    "age = float(input(\"Enter your age: \"))\n",
    "if age > 17:\n",
    "    print(\"Congratulations! You are eligible for casting vote.\")\n",
    "else:\n",
    "    print(\"Sorry! You are not eligible for casting vote.\")"
   ]
  },
  {
   "cell_type": "markdown",
   "metadata": {},
   "source": [
    "\n",
    "3) Write a program to check whether a number entered by user is even or odd."
   ]
  },
  {
   "cell_type": "code",
   "execution_count": 11,
   "metadata": {},
   "outputs": [
    {
     "name": "stdout",
     "output_type": "stream",
     "text": [
      "The number 445 is Odd.\n"
     ]
    }
   ],
   "source": [
    "def check_even_odd(num):\n",
    "    if num % 2 == 0:\n",
    "       return \"Even\"\n",
    "    else:\n",
    "       return \"Odd\"\n",
    "num = int(input(\"Enter a number: \"))\n",
    "result = check_even_odd(num)\n",
    "print(f\"The number {num} is {result}.\")"
   ]
  },
  {
   "cell_type": "markdown",
   "metadata": {},
   "source": [
    "4) Write a program to check whether a number is divisible by 7 or not.\n",
    "Show Answer"
   ]
  },
  {
   "cell_type": "code",
   "execution_count": 16,
   "metadata": {},
   "outputs": [
    {
     "name": "stdout",
     "output_type": "stream",
     "text": [
      "The number 49 is divisible by 7.\n"
     ]
    }
   ],
   "source": [
    "def check_divisible_by_7(num):\n",
    "    if num % 7 == 0:\n",
    "       \n",
    "       return True\n",
    "    else:\n",
    "       return False\n",
    "    \n",
    "num = int(input(\"Enter a number: \"))\n",
    "\n",
    "if check_divisible_by_7(num):\n",
    "    print(f\"The number {num} is divisible by 7.\")\n",
    "else:\n",
    "    print(f\"The number {num} is not divisible by 7.\")"
   ]
  },
  {
   "cell_type": "markdown",
   "metadata": {},
   "source": [
    "5) Write a program to display \n",
    "\"Hello\" if a number entered by user is a multiple of five , otherwise print \"Bye\"."
   ]
  },
  {
   "cell_type": "code",
   "execution_count": 18,
   "metadata": {},
   "outputs": [
    {
     "name": "stdout",
     "output_type": "stream",
     "text": [
      "Bye\n"
     ]
    }
   ],
   "source": [
    "def check_multiple_of_5(num):\n",
    "    if num % 5 == 0:\n",
    "        return True\n",
    "    else:\n",
    "        return False\n",
    "num = int(input(\"Enter a number: \"))\n",
    "if check_multiple_of_5(num):\n",
    "    print(\"Hello\")\n",
    "else:\n",
    "    print(\"Bye\")\n"
   ]
  },
  {
   "cell_type": "markdown",
   "metadata": {},
   "source": [
    "7) Write a program to display the last digit of a number.\n"
   ]
  },
  {
   "cell_type": "code",
   "execution_count": 19,
   "metadata": {},
   "outputs": [
    {
     "name": "stdout",
     "output_type": "stream",
     "text": [
      "The last digit of 545478 is 8.\n"
     ]
    }
   ],
   "source": [
    "def get_last_digit(num):\n",
    "    return num % 10\n",
    "num = int(input(\"Enter a number: \"))\n",
    "last_digit = get_last_digit(num)\n",
    "print(f\"The last digit of {num} is {last_digit}.\")\n"
   ]
  },
  {
   "cell_type": "markdown",
   "metadata": {},
   "source": [
    "9) Take values of length and breadth of a rectangle from user and print if it is square or rectangle."
   ]
  },
  {
   "cell_type": "code",
   "execution_count": 20,
   "metadata": {},
   "outputs": [
    {
     "name": "stdout",
     "output_type": "stream",
     "text": [
      "The given shape is a Rectangle.\n"
     ]
    }
   ],
   "source": [
    "def check_rectangle_or_square(length, breadth):\n",
    "    if length == breadth:\n",
    "        return \"Square\"\n",
    "    else:\n",
    "        return \"Rectangle\"\n",
    "length = float(input(\"Enter the length of the rectangle: \"))\n",
    "breadth = float(input(\"Enter the breadth of the rectangle: \"))\n",
    "result = check_rectangle_or_square(length, breadth)\n",
    "print(f\"The given shape is a {result}.\")\n"
   ]
  },
  {
   "cell_type": "markdown",
   "metadata": {},
   "source": [
    "10) Take two int values from user and print greatest among them."
   ]
  },
  {
   "cell_type": "code",
   "execution_count": 21,
   "metadata": {},
   "outputs": [
    {
     "name": "stdout",
     "output_type": "stream",
     "text": [
      "The greatest number is: 66\n"
     ]
    }
   ],
   "source": [
    "num1 = int(input(\"Enter the first integer: \"))\n",
    "num2 = int(input(\"Enter the second integer: \"))\n",
    "print(\"The greatest number is:\", max(num1, num2))\n"
   ]
  },
  {
   "cell_type": "markdown",
   "metadata": {},
   "source": [
    "11) A shop will give discount of 10% if the cost of purchased quantity is more than 1000.\n",
    "Ask user for quantity\n",
    "Suppose, one unit will cost 100.\n",
    "Judge and print total cost for user."
   ]
  },
  {
   "cell_type": "code",
   "execution_count": 31,
   "metadata": {},
   "outputs": [
    {
     "name": "stdout",
     "output_type": "stream",
     "text": [
      "Total cost for the customer: 100\n"
     ]
    }
   ],
   "source": [
    "unit_cost = 100\n",
    "quantity = int(input(\"Enter the quantity: \"))\n",
    "total_cost = quantity * unit_cost \n",
    "\n",
    "if total_cost > 1000:\n",
    "    discount = total_cost * 0.1\n",
    "    total_cost -= discount\n",
    "    print(\"10% discount applied!\")\n",
    "\n",
    "print(\"Total cost for the customer:\", total_cost )\n"
   ]
  },
  {
   "cell_type": "markdown",
   "metadata": {},
   "source": [
    "12) A school has following rules for grading system:\n",
    "\n",
    "a. Below 25 - F\n",
    "\n",
    "b. 25 to 45 - E\n",
    "\n",
    "c. 45 to 50 - D\n",
    "\n",
    "d. 50 to 60 - C\n",
    "\n",
    "e. 60 to 80 - B\n",
    "\n",
    "f. Above 80 - A\n",
    "\n",
    "Ask user to enter marks and print the corresponding grade."
   ]
  },
  {
   "cell_type": "code",
   "execution_count": 35,
   "metadata": {},
   "outputs": [
    {
     "name": "stdout",
     "output_type": "stream",
     "text": [
      "Your Grade is C\n"
     ]
    }
   ],
   "source": [
    "marks = float(input(\"Enter your marks: \"))\n",
    "if marks < 25:\n",
    "    grade = \"F\"\n",
    "elif marks < 45:\n",
    "    grade = \"E\"\n",
    "elif marks < 50:\n",
    "    grade = \"D\"\n",
    "elif marks < 60:\n",
    "    grade = \"C\"\n",
    "elif marks < 80:\n",
    "    grade = \"B\"\n",
    "else:\n",
    "    grade = \"A\"\n",
    "print(\"Your Grade is\", grade)\n"
   ]
  },
  {
   "cell_type": "markdown",
   "metadata": {},
   "source": [
    "14)A student will not be allowed to sit in exam if his/her attendence is less than 75%.\n",
    "\n",
    "Take following input from user\n",
    "\n",
    "Number of classes held\n",
    "\n",
    "Number of classes attended.\n",
    "\n",
    "And print\n",
    "\n",
    "percentage of class attended\n",
    "\n",
    "Is student is allowed to sit in exam or not.\n"
   ]
  },
  {
   "cell_type": "code",
   "execution_count": 2,
   "metadata": {},
   "outputs": [
    {
     "name": "stdout",
     "output_type": "stream",
     "text": [
      "Percentage of classes attended: 50.0%\n",
      "Student is not allowed to sit in exam.\n"
     ]
    }
   ],
   "source": [
    "classes_held = int(input(\"Enter the number of classes held: \"))\n",
    "classes_attended = int(input(\"Enter the class you have attended: \"))\n",
    "attendence_percentage = (classes_attended / classes_held) * 100\n",
    "if attendence_percentage >= 75:\n",
    "    print(f\"Percentage of classes attended: {attendence_percentage}%\")\n",
    "    print(\"Student is allowed to sit in exam.\")\n",
    "else:\n",
    "    print(f\"Percentage of classes attended: {attendence_percentage}%\")\n",
    "    print(\"Student is not allowed to sit in exam.\")"
   ]
  },
  {
   "cell_type": "markdown",
   "metadata": {},
   "source": [
    "15) Modify the above question to allow student to sit if he/she has medical cause. Ask user if he/she has medical cause or not ( 'Y' or 'N' ) and print accordingly."
   ]
  },
  {
   "cell_type": "code",
   "execution_count": 3,
   "metadata": {},
   "outputs": [
    {
     "name": "stdout",
     "output_type": "stream",
     "text": [
      "Percentage of classes attended: 50.0%\n",
      "Student is allowed to sit in exam.\n"
     ]
    }
   ],
   "source": [
    "classes_held = int(input(\"Enter the number of classes held: \"))\n",
    "classes_attended = int(input(\"Enter the class you have attended: \"))\n",
    "medical_cause = input(\"Do you have any medical cause? (Y/N): \")\n",
    "attendence_percentage = (classes_attended / classes_held) * 100\n",
    "if attendence_percentage >= 75 or medical_cause.upper() == 'Y':\n",
    "    print(f\"Percentage of classes attended: {attendence_percentage}%\")\n",
    "    print(\"Student is allowed to sit in exam.\")\n",
    "else:\n",
    "    print(f\"Percentage of classes attended: {attendence_percentage}%\")\n",
    "    print(\"Student is not allowed to sit in exam.\")"
   ]
  },
  {
   "cell_type": "markdown",
   "metadata": {},
   "source": [
    "16) Write a program to check if a year is leap year or not.\n",
    "\n",
    "If a year is divisible by 4 then it is leap year but if the year is century year like 2000, 1900, 2100 then it must be divisible by 400."
   ]
  },
  {
   "cell_type": "code",
   "execution_count": 5,
   "metadata": {},
   "outputs": [
    {
     "name": "stdout",
     "output_type": "stream",
     "text": [
      "1996 is a leap year.\n"
     ]
    }
   ],
   "source": [
    "year = int(input(\"Enter an year: \"))\n",
    "if (year % 4 == 0 and year % 100 != 0) or (year % 400 == 0):\n",
    "    print(f\"{year} is a leap year.\")\n",
    "else:\n",
    "    print(f\"{year} is not a leap year.\")"
   ]
  },
  {
   "cell_type": "markdown",
   "metadata": {},
   "source": [
    "17) Ask user to enter age, gender ( M or F ), marital status ( Y or N ) and then using following rules print their place of service.\n",
    "\n",
    "if employee is female, then she will work only in urban areas.\n",
    "\n",
    "if employee is a male and age is in between 20 to 40 then he may work in anywhere\n",
    "\n",
    "if employee is male and age is in between 40 t0 60 then he will work in urban areas only.\n",
    "\n",
    "And any other input of age should print \"ERROR\""
   ]
  },
  {
   "cell_type": "code",
   "execution_count": 9,
   "metadata": {},
   "outputs": [
    {
     "name": "stdout",
     "output_type": "stream",
     "text": [
      "You may work anywhere.\n"
     ]
    }
   ],
   "source": [
    "age = int(input(\"Enter your age: \"))\n",
    "gender = input(\"Enter your gender (M/F): \").upper()\n",
    "marital_status = input(\"Are you married? (Y/N): \").upper()\n",
    "if age < 20 or age > 60:\n",
    "    print(\"ERROR\")\n",
    "else:\n",
    "    if gender == 'F':\n",
    "        print(\"You will work in urban areas.\")\n",
    "    elif gender == 'M':\n",
    "        if 20 <= age <= 40:\n",
    "            print(\"You may work anywhere.\")\n",
    "        elif 40 <= age <= 60:\n",
    "            print(\"You will work in urban areas only.\")\n",
    "    else:\n",
    "        print(\"Invalid gender input.\")\n"
   ]
  },
  {
   "cell_type": "code",
   "execution_count": null,
   "metadata": {},
   "outputs": [],
   "source": []
  },
  {
   "cell_type": "markdown",
   "metadata": {},
   "source": [
    "6) Write a program to calculate the electricity bill (accept number of unit from user) according to the following criteria :\n",
    "     Unit                                                     Price  \n",
    "uptp 100 units                                             no charge\n",
    "Next 200 units                                              Rs 5 per unit\n",
    "After 200 units                                             Rs 10 per unit\n",
    "(For example if input unit is 350 than total bill amount is Rs.3500\n",
    "(For example if input unit is 97 than total bill amount is Rs.0\n",
    "(For example if input unit is 150 than total bill amount is Rs.750"
   ]
  },
  {
   "cell_type": "markdown",
   "metadata": {},
   "source": [
    "13) Take input of age of 3 people by user and determine oldest and youngest among them."
   ]
  },
  {
   "cell_type": "code",
   "execution_count": 10,
   "metadata": {},
   "outputs": [
    {
     "name": "stdout",
     "output_type": "stream",
     "text": [
      "Total bill amount is Rs. 0\n"
     ]
    }
   ],
   "source": [
    "units = int(input(\"Enter the number of units consumed: \"))\n",
    "if units <= 100:\n",
    "    bill_amount = 0\n",
    "elif units <= 300:\n",
    "    bill_amount = (units - 100) * 5\n",
    "else:\n",
    "    bill_amount = 200 * 5 + (units - 300) * 10\n",
    "print(\"Total bill amount is Rs.\", bill_amount)\n"
   ]
  }
 ],
 "metadata": {
  "kernelspec": {
   "display_name": "Python 3 (ipykernel)",
   "language": "python",
   "name": "python3"
  },
  "language_info": {
   "codemirror_mode": {
    "name": "ipython",
    "version": 3
   },
   "file_extension": ".py",
   "mimetype": "text/x-python",
   "name": "python",
   "nbconvert_exporter": "python",
   "pygments_lexer": "ipython3",
   "version": "3.12.2"
  }
 },
 "nbformat": 4,
 "nbformat_minor": 2
}
